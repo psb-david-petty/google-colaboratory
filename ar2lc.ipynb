{
  "nbformat": 4,
  "nbformat_minor": 0,
  "metadata": {
    "colab": {
      "provenance": [],
      "include_colab_link": true
    },
    "kernelspec": {
      "name": "python3",
      "display_name": "Python 3"
    },
    "language_info": {
      "name": "python"
    }
  },
  "cells": [
    {
      "cell_type": "markdown",
      "metadata": {
        "id": "view-in-github",
        "colab_type": "text"
      },
      "source": [
        "<a href=\"https://colab.research.google.com/github/psb-david-petty/google-colaboratory/blob/master/ar2lc.ipynb\" target=\"_parent\"><img src=\"https://colab.research.google.com/assets/colab-badge.svg\" alt=\"Open In Colab\"/></a>"
      ]
    },
    {
      "cell_type": "markdown",
      "source": [
        "# List Comprehensions\n",
        "\n",
        "Check out [this tutorial](https://realpython.com/courses/understand-list-comprehensions/)\n",
        "\n",
        "This is a **test**. this is a `python3` file\n",
        "\n",
        "- See [https://colab.research.google.com/notebooks/markdown_guide.ipynb](https://colab.research.google.com/notebooks/markdown_guide.ipynb) for markdown information.\n",
        "- See [https://towardsdatascience.com/superpower-your-google-colab-720d54dd6a06](https://towardsdatascience.com/superpower-your-google-colab-720d54dd6a06) for Colab Notebook enhancements."
      ],
      "metadata": {
        "id": "j-VyeQk188Gy"
      }
    },
    {
      "cell_type": "code",
      "source": [
        "#!/usr/bin/env python3\n",
        "#\n",
        "# List Comprehensions\n",
        "#\n",
        "\n",
        "l = list()          # use instead of l = []\n",
        "s = set()\n",
        "s.add('guinea pig')\n",
        "s.add('guinea pig')\n",
        "d = dict()          # use instead of d = {}\n",
        "d['guinea'] = 'pig'\n",
        "d['guinea'] = 'is also a country'\n",
        "t = tuple()\n",
        "t = (47, 48, 49,  )\n",
        "print(t[0])\n",
        "\n",
        "print([ 1, 2, 3, ] + [ 4, 5, 6, 7, 8, ])\n",
        "n = 10\n",
        "for i in range(n):\n",
        "    if i * i % 2 != 0:\n",
        "        # l.append(i * i)\n",
        "        l += [i * i, ]\n",
        "\n",
        "print(s, d, l, )\n",
        "\n",
        "l = [ i * i for i in range(n) if i * i % 2 == 1 ]\n",
        "l[0] = 47\n",
        "print(l)\n",
        "\n",
        "m, n = 3, 4\n",
        "l = list()\n",
        "for r in range(m):\n",
        "    row = list()\n",
        "    l.append(row)\n",
        "    for c in range(n):\n",
        "        pass\n",
        "print(l)"
      ],
      "metadata": {
        "colab": {
          "base_uri": "https://localhost:8080/"
        },
        "id": "oPpx8lxX8-qS",
        "outputId": "0f75ffcf-5e7a-4713-92c2-0959fc4beddd"
      },
      "execution_count": null,
      "outputs": [
        {
          "output_type": "stream",
          "name": "stdout",
          "text": [
            "47\n",
            "[1, 2, 3, 4, 5, 6, 7, 8]\n",
            "{'guinea pig'} {'guinea': 'is also a country'} [1, 9, 25, 49, 81]\n",
            "[47, 9, 25, 49, 81]\n",
            "[[], [], []]\n"
          ]
        }
      ]
    },
    {
      "cell_type": "code",
      "source": [
        "#!/usr/bin/env python3\n",
        "#\n",
        "# Primes\n",
        "#\n",
        "import math, time\n",
        "\n",
        "def primes(n=2):\n",
        "    \"\"\"Yield prime numbers.\"\"\"\n",
        "    while True:\n",
        "        if sum( x for sub in ( { d, n // d, } for d in range(2, int(math.sqrt(n)) + 1) if n % d == 0 ) for x in sub ) == 0:\n",
        "            yield n     # STUB\n",
        "        n += 1\n",
        "\n",
        "t = time.time()\n",
        "for p in primes():\n",
        "    # print(p)\n",
        "    if p > 10 ** 5: print(p); break\n",
        "\n",
        "print(time.time() - t)"
      ],
      "metadata": {
        "colab": {
          "base_uri": "https://localhost:8080/"
        },
        "id": "PWMCKbFppkQ8",
        "outputId": "62fc0894-c419-4b99-e8a0-b26729b18982"
      },
      "execution_count": null,
      "outputs": [
        {
          "output_type": "stream",
          "name": "stdout",
          "text": [
            "100003\n",
            "1.6654927730560303\n"
          ]
        }
      ]
    }
  ]
}