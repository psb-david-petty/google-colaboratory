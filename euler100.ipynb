{
  "nbformat": 4,
  "nbformat_minor": 0,
  "metadata": {
    "colab": {
      "name": "euler100.ipynb",
      "provenance": [],
      "collapsed_sections": [],
      "authorship_tag": "ABX9TyPrkud2q0IJzE0WdYmKOBx2",
      "include_colab_link": true
    },
    "kernelspec": {
      "name": "python3",
      "display_name": "Python 3"
    },
    "language_info": {
      "name": "python"
    }
  },
  "cells": [
    {
      "cell_type": "markdown",
      "metadata": {
        "id": "view-in-github",
        "colab_type": "text"
      },
      "source": [
        "<a href=\"https://colab.research.google.com/github/psb-david-petty/google-colaboratory/blob/master/euler100.ipynb\" target=\"_parent\"><img src=\"https://colab.research.google.com/assets/colab-badge.svg\" alt=\"Open In Colab\"/></a>"
      ]
    },
    {
      "cell_type": "markdown",
      "source": [
        "# Project Euler 100\n",
        "\n",
        "This is a look at a solution to [Project Euler #100](https://projecteuler.net/problem=100). The text reads:\n",
        "\n",
        "> *If a box contains twenty-one coloured discs, composed of fifteen blue discs and six red discs, and two discs were taken at random, it can be seen that the probability of taking two blue discs, P(BB) = (15/21)×(14/20) = 1/2.*<br>\n",
        ">\n",
        "> *The next such arrangement, for which there is exactly 50% chance of taking two blue discs at random, is a box containing eighty-five blue discs and thirty-five red discs.*<br>\n",
        ">\n",
        "> *By finding the first arrangement to contain over 10 ** 12 = 1,000,000,000,000 discs in total, determine the number of blue discs that the box would contain.*\n",
        "\n",
        "This amounts to finding values $blue$ and $red$ where $2\\left[ blue(blue - 1) \\right] = (blue + red)\\times (blue + red - 1)$ where $(blue + red) > 10^{12}$."
      ],
      "metadata": {
        "id": "51WG-Cja1KKf"
      }
    },
    {
      "cell_type": "markdown",
      "source": [
        "## Na&#239;ve approach\n",
        "\n",
        "The first na&#239;ve solution is a brute-force $O\\left( n^{2} \\right)$ approach, which works for the first thousand tests, but is completely inadequate for a trilion (even if, since $blue > red$ for this problem, a [triangular](https://en.wikipedia.org/wiki/Quadratic_growth) search will work)."
      ],
      "metadata": {
        "id": "9sk7MnWOrUPG"
      }
    },
    {
      "cell_type": "code",
      "source": [
        "#!/usr/env python3\n",
        "#\n",
        "# euler100.py\n",
        "#\n",
        "\n",
        "\"\"\"If a box contains twenty-one coloured discs, composed of fifteen blue discs and six red discs, and two discs were taken at random, it can be seen that the probability of taking two blue discs, P(BB) = (15/21)×(14/20) = 1/2.\n",
        "The next such arrangement, for which there is exactly 50% chance of taking two blue discs at random, is a box containing eighty-five blue discs and thirty-five red discs.\n",
        "By finding the first arrangement to contain over 10 ** 12 = 1,000,000,000,000 discs in total, determine the number of blue discs that the box would contain.\"\"\"\n",
        "\n",
        "# Quadratic brute-force solution.\n",
        "top = 10 ** 3\n",
        "for red in range(top):\n",
        "    for blue in range(red, top):\n",
        "        if 2 * blue * (blue - 1) == (blue + red) * (blue + red - 1):\n",
        "            print(blue, red)"
      ],
      "metadata": {
        "colab": {
          "base_uri": "https://localhost:8080/"
        },
        "id": "1w4lMymxpz9M",
        "outputId": "fe1ef45d-2be6-445a-fad1-ac730a9ac732"
      },
      "execution_count": 15,
      "outputs": [
        {
          "output_type": "stream",
          "name": "stdout",
          "text": [
            "0 0\n",
            "1 0\n",
            "3 1\n",
            "15 6\n",
            "85 35\n",
            "493 204\n"
          ]
        }
      ]
    },
    {
      "cell_type": "markdown",
      "source": [
        "## Improve to *O(n)*\n",
        "\n",
        "In order to improve the performance, notice that the ratio $\\frac{\\text{blue}}{\\text{red}}$ approaches the [Silver Ratio](https://en.wikipedia.org/wiki/Silver_ratio): $\\left( 1 + \\sqrt{2} \\right)$, so only look for $blue$ values around $\\left[ red \\times \\left(1 + \\sqrt{2}\\right) \\right]$.\n",
        "\n",
        "Even with this $O\\left( n^{2} \\right)$ &rarr; $O\\left( n \\right)$ improvement, running $100,000$ tests took &#8776;3 seconds, $1,000,000$ tests took &#8776;30 seconds, so $1,000,000 \\times 1,000,000$ tests will take &#8776;$30,000,000$s (which is &#8776;347 days) on an M1 Mac (&#8776;$40,000,000$s or &#8776;463 days, on this [Google Colaboratory](https://colab.research.google.com/) notebook)."
      ],
      "metadata": {
        "id": "cmz-0d3LrMpu"
      }
    },
    {
      "cell_type": "code",
      "source": [
        "#!/usr/env python3\n",
        "#\n",
        "# euler100.py\n",
        "#\n",
        "import math, time\n",
        "\n",
        "\"\"\"If a box contains twenty-one coloured discs, composed of fifteen blue discs and six red discs, and two discs were taken at random, it can be seen that the probability of taking two blue discs, P(BB) = (15/21)×(14/20) = 1/2.\n",
        "The next such arrangement, for which there is exactly 50% chance of taking two blue discs at random, is a box containing eighty-five blue discs and thirty-five red discs.\n",
        "By finding the first arrangement to contain over 10 ** 12 = 1,000,000,000,000 discs in total, determine the number of blue discs that the box would contain.\"\"\"\n",
        "\n",
        "# The blue / red ratio approaches the silver ratio = 1 + math.sqrt(2)\n",
        "silver = 1 + math.sqrt(2)\n",
        "# Run this algorithm for 10 ** 2 to 10 ** 6.\n",
        "for e in range(2, 7):\n",
        "    top, start_time = 10 ** e, time.time()\n",
        "    for red in range(2, top):\n",
        "        # Increase / decrease the silver ratio by delta to calculate blue.\n",
        "        delta = 10 ** - int(math.log(red, 10) - 1)\n",
        "        start, end = red * (silver - delta), red * (silver + delta)\n",
        "        # Make sure start < blue < end.\n",
        "        if not (start < red * silver < end):\n",
        "            print(f\"{red * silver:.2f} not on [{int(start)},{int(end)}]\")\n",
        "        # Look at blue values around red * silver.\n",
        "        for blue in range(int(start), int(end)):\n",
        "            # if blue * blue - blue == red * red + 2 * red * blue - red:\n",
        "            if 2 * blue * (blue - 1) == (blue + red) * (blue + red - 1):\n",
        "                print(f\"{blue} {red} ({blue} on [{int(start)},{int(end)}])\")\n",
        "    print(f\"* time: {int(time.time() - start_time)}s for {top} tests\")\n",
        "# 31s for 10 ** 6 tests, 31 * 10 ** 6s (359 days) for 10 ** 12 tests.\n"
      ],
      "metadata": {
        "colab": {
          "base_uri": "https://localhost:8080/"
        },
        "id": "TdH06X4v-pxx",
        "outputId": "f93ca1d4-a93a-4430-9fa1-2f0ce980fb8b"
      },
      "execution_count": 16,
      "outputs": [
        {
          "output_type": "stream",
          "name": "stdout",
          "text": [
            "15 6 (15 on [8,20])\n",
            "85 35 (85 on [49,119])\n",
            "* time: 0s for 100 tests\n",
            "15 6 (15 on [8,20])\n",
            "85 35 (85 on [49,119])\n",
            "493 204 (493 on [472,512])\n",
            "* time: 0s for 1000 tests\n",
            "15 6 (15 on [8,20])\n",
            "85 35 (85 on [49,119])\n",
            "493 204 (493 on [472,512])\n",
            "2871 1189 (2871 on [2858,2882])\n",
            "16731 6930 (16731 on [16661,16799])\n",
            "* time: 0s for 10000 tests\n",
            "15 6 (15 on [8,20])\n",
            "85 35 (85 on [49,119])\n",
            "493 204 (493 on [472,512])\n",
            "2871 1189 (2871 on [2858,2882])\n",
            "16731 6930 (16731 on [16661,16799])\n",
            "97513 40391 (97513 on [97472,97552])\n",
            "* time: 4s for 100000 tests\n",
            "15 6 (15 on [8,20])\n",
            "85 35 (85 on [49,119])\n",
            "493 204 (493 on [472,512])\n",
            "2871 1189 (2871 on [2858,2882])\n",
            "16731 6930 (16731 on [16661,16799])\n",
            "97513 40391 (97513 on [97472,97552])\n",
            "568345 235416 (568345 on [568320,568368])\n",
            "* time: 42s for 1000000 tests\n"
          ]
        }
      ]
    },
    {
      "cell_type": "markdown",
      "source": [
        "## A recursive and closed-form solution\n",
        "\n",
        "OK, so waiting a year for the soultion is not an option&hellip;\n",
        "\n",
        "Once some solutions are known (15, 85, 493, 2871, 16731, 97513, 568345), you can use the [OEIS](https://oeis.org/) to research others. \n",
        "\n",
        "https://oeis.org/search?q=15+85+493+2871+16731+97513+568345 shows one match: [A011900](https://oeis.org/A011900): *Members of Diophantine Pairs* &mdash; one element of solutions to [Pell's Equation](https://en.wikipedia.org/wiki/Pell's_equation) for $n = 2$. \n",
        "\n",
        "https://oeis.org/search?q=21+120+697+4060+23661+137904+803761 shows one match: [A046090](https://oeis.org/A046090): X+1 values of *Pythagorean triples (X,X+1,Z) ordered by increasing Z* &mdash; the total discs in the box.\n",
        "\n",
        "[A011900](https://oeis.org/A011900) and [A046090](https://oeis.org/A046090) give both recursive definitions and closed-form formulas, so it is easy to solve for the first `a046090(n)` $> 1,000,000,000,000$ which is when $n = 16$.\n",
        "\n",
        "It is interesting that both [A011900](https://oeis.org/A011900) (the blue values) and [A046090](https://oeis.org/A046090) (the totals for discs in the box) have the same recursive definitions, but with different base cases. \n",
        "\n",
        "### Solution\n",
        "\n",
        "**So, if you have 756,872,327,473 blue discs and 313,506,783,024 red discs in a box, the probability of drawing two blue discs at random from the box is exactly 50%!**\n",
        "\n",
        "### Epilog\n",
        "\n",
        "If these trillion chips are standard $39\\text{mm}$ poker chips where $11$ fit in a $39\\text{mm}$ cube then, since $1070379110497 \\approx 4600 \\times 4600 \\times 4600 \\times 11$, the box containing these chips must be a $4600 \\times 39\\text{mm} \\div 1000 = 179.4\\text{m}$ cube which is $\\approx 598$ feet on a side!"
      ],
      "metadata": {
        "id": "PARYVt2B-5DQ"
      }
    },
    {
      "cell_type": "code",
      "source": [
        "#!/usr/env python3\n",
        "#\n",
        "# euler100.py\n",
        "#\n",
        "import math, time\n",
        "\n",
        "\"\"\"If a box contains twenty-one coloured discs, composed of fifteen blue discs and six red discs, and two discs were taken at random, it can be seen that the probability of taking two blue discs, P(BB) = (15/21)×(14/20) = 1/2.\n",
        "The next such arrangement, for which there is exactly 50% chance of taking two blue discs at random, is a box containing eighty-five blue discs and thirty-five red discs.\n",
        "By finding the first arrangement to contain over 10 ** 12 = 1,000,000,000,000 discs in total, determine the number of blue discs that the box would contain.\"\"\"\n",
        "\n",
        "# https://oeis.org/search?q=15+85+493+2871+16731+97513+568345\n",
        "def a011900(n):\n",
        "    \"\"\"Return nth element of OEIS A011900.\"\"\"\n",
        "    if n == 0: return 1\n",
        "    if n == 1: return 3\n",
        "    return 6 * a011900(n - 1) - a011900(n - 2) - 2\n",
        "\n",
        "# https://oeis.org/search?q=21+120+697+4060+23661+137904+803761\n",
        "def a046090(n):\n",
        "    \"\"\"Return nth element of OEIS A046090.\"\"\"\n",
        "    if n == 0: return 1\n",
        "    if n == 1: return 4\n",
        "    return 6 * a046090(n - 1) - a046090(n - 2) - 2\n",
        "\n",
        "solutions = 20\n",
        "print([ a011900(i) for i in range(solutions) if a046090(i) > 10 ** 12 ][0])\n",
        "print([ a011900(i) for i in range(solutions) ])\n",
        "print([ a046090(i) - a011900(i) for i in range(solutions) ])\n",
        "\n",
        "# a011900(n) as a closed-form expression.\n",
        "a011900 = lambda n: int(round((((1 + math.sqrt(2)) ** (2 * n - 1) - (1 - math.sqrt(2)) ** (2 * n - 1)) / math.sqrt(8) + 1) / 2, 0))\n",
        "print([ a011900(i) for i in range(solutions) ])\n",
        "# a046090(n) as a closed-form expression function of a011900(n).\n",
        "a046090 = lambda n: int((math.sqrt(1 + 8 * a011900(n) * (a011900(n) + 1))) / 2 - a011900(n))\n",
        "print([ a046090(i) for i in range(solutions) ])\n",
        "# These don't exactly match for n < 2 and the indexes are off by 1...\n"
      ],
      "metadata": {
        "colab": {
          "base_uri": "https://localhost:8080/"
        },
        "id": "h0V3-RiyGkfW",
        "outputId": "1708d6d0-5397-42fb-8705-de76296bd3e5"
      },
      "execution_count": 17,
      "outputs": [
        {
          "output_type": "stream",
          "name": "stdout",
          "text": [
            "756872327473\n",
            "[1, 3, 15, 85, 493, 2871, 16731, 97513, 568345, 3312555, 19306983, 112529341, 655869061, 3822685023, 22280241075, 129858761425, 756872327473, 4411375203411, 25711378892991, 149856898154533]\n",
            "[0, 1, 6, 35, 204, 1189, 6930, 40391, 235416, 1372105, 7997214, 46611179, 271669860, 1583407981, 9228778026, 53789260175, 313506783024, 1827251437969, 10650001844790, 62072759630771]\n",
            "[1, 1, 3, 15, 85, 493, 2871, 16731, 97513, 568345, 3312555, 19306983, 112529341, 655869061, 3822685023, 22280241075, 129858761425, 756872327473, 4411375203411, 25711378892991]\n",
            "[1, 1, 1, 6, 35, 204, 1189, 6930, 40391, 235416, 1372105, 7997214, 46611179, 271669860, 1583407981, 9228778026, 53789260175, 313506783024, 1827251437969, 10650001844790]\n"
          ]
        }
      ]
    }
  ]
}